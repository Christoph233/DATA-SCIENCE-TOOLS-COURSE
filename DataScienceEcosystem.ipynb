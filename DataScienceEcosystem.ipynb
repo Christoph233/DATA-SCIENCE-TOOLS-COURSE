{
 "cells": [
  {
   "cell_type": "markdown",
   "id": "903228a0-5d4d-473c-8047-99c535c76808",
   "metadata": {},
   "source": [
    "Exercise 1: Create a Jupyter Notebook\n",
    "\n",
    "Create a new Jupyter notebook called DataScienceEcosystem.ipynb"
   ]
  },
  {
   "cell_type": "markdown",
   "id": "4102f588-3332-4aa6-b4ea-4b1f381bccfa",
   "metadata": {},
   "source": [
    "Exercise 2: Create markdown cell with title of the notebook\n",
    "\n",
    "Create a markdown cell with the title Data Science Tools and Ecosystem using H1 style heading.\n",
    "Take a screenshot of the markdown cell and name it as 2-title.png (Images can be saved with either the .jpg or .png extension.)"
   ]
  },
  {
   "cell_type": "markdown",
   "id": "d3487929-fe06-4df0-8c9a-b4ca50b6e63c",
   "metadata": {},
   "source": [
    "# Data Science Tools and Ecosystem"
   ]
  },
  {
   "cell_type": "markdown",
   "id": "db82c032-6761-4b8d-b421-7150ad02f6c0",
   "metadata": {},
   "source": [
    "Exercise 3 - Create a markdown cell for an introduction\n",
    "\n",
    "Write an introductory sentence about the notebook such as the follows:\n",
    "\n",
    "In this notebook, Data Science Tools and Ecosystem are summarized."
   ]
  },
  {
   "cell_type": "markdown",
   "id": "20782752-9abe-4458-8d68-5df0d53cf3cc",
   "metadata": {
    "tags": []
   },
   "source": [
    "In this notebook Data Science Tools and Ecosystem are summarized "
   ]
  },
  {
   "cell_type": "markdown",
   "id": "93b11df8-db7e-4c55-865c-f7a8a2295c59",
   "metadata": {},
   "source": [
    "Exercise 10 - Insert a markdown cell to list Objectives"
   ]
  },
  {
   "cell_type": "markdown",
   "id": "4e8cb8c6-ca6f-4d7b-b4c4-42bf4b237436",
   "metadata": {},
   "source": [
    "**Objectives:**\n",
    "\n",
    "- List popular languages for Data Science\n",
    "- List some data science libraries\n",
    "- List Data Science tools as a table"
   ]
  },
  {
   "cell_type": "code",
   "execution_count": null,
   "id": "c1d7964b-4b43-44a5-9bae-a1c6f5ed9e50",
   "metadata": {},
   "outputs": [],
   "source": []
  },
  {
   "cell_type": "markdown",
   "id": "255078b3-fa24-48e7-b150-b4d3279f4c89",
   "metadata": {},
   "source": [
    "Exercise 4 - Create a markdown cell to list data science languages"
   ]
  },
  {
   "cell_type": "markdown",
   "id": "13538304-421c-46e1-ab0c-50790e5c0a9b",
   "metadata": {},
   "source": [
    "Some of the popular languages that Data Scientists use are: "
   ]
  },
  {
   "cell_type": "markdown",
   "id": "52dff9cb-fe03-4a5a-8f56-7066a5d4683f",
   "metadata": {},
   "source": [
    "1. Python\n",
    "2. R\n",
    "3. SQL"
   ]
  },
  {
   "cell_type": "markdown",
   "id": "0a19a7ef-b1ec-40e3-bbd4-3829e8e7a4c2",
   "metadata": {},
   "source": [
    "Exercise 5 - Create a markdown cell to list data science libraries"
   ]
  },
  {
   "cell_type": "markdown",
   "id": "662a6c2b-18e7-4643-b4e5-5b982f2ffd63",
   "metadata": {},
   "source": [
    "Some of the commonly used libraries used by Data Scientists include:"
   ]
  },
  {
   "cell_type": "markdown",
   "id": "78d5c21c-1284-4e84-8fba-9dae5404e7d9",
   "metadata": {
    "tags": []
   },
   "source": [
    "1. Pandas\n",
    "2. Numpy\n",
    "3. Matplotlib"
   ]
  },
  {
   "cell_type": "markdown",
   "id": "551143b0-6173-477d-84b2-ac84be089b9e",
   "metadata": {},
   "source": [
    "Exercise 6 - Create a markdown cell with a table of Data Science tools"
   ]
  },
  {
   "cell_type": "markdown",
   "id": "bbc97771-0d4c-4005-98ae-9adb882e1764",
   "metadata": {},
   "source": [
    "|Data Science Tools|\n",
    "|---|\n",
    "|Jupyter|\n",
    "|Apache Zeppelin|\n",
    "|RStudioxercise 7 - Create a markdown cell introducing arithmetic expression examples|"
   ]
  },
  {
   "cell_type": "markdown",
   "id": "2d8e3d93-7a41-40f9-8c67-a4c79dc0cc41",
   "metadata": {},
   "source": [
    "xercise 7 - Create a markdown cell introducing arithmetic expression examples"
   ]
  },
  {
   "cell_type": "markdown",
   "id": "a31c9cd1-ef3d-429e-a52a-64fdbce46d49",
   "metadata": {
    "tags": []
   },
   "source": [
    "Exercise 7 - Create a markdown cell introducing arithmetic expression examples"
   ]
  },
  {
   "cell_type": "markdown",
   "id": "dc70b1ca-c94f-48ff-bcda-18d12013e3f5",
   "metadata": {},
   "source": [
    "### Below are a few examples of evaluating arithmetic expressions in Python"
   ]
  },
  {
   "cell_type": "markdown",
   "id": "2a37c065-d7a5-4541-89db-3d137777c000",
   "metadata": {},
   "source": [
    "Exercise 8 - Create a code cell to multiply and add numbers"
   ]
  },
  {
   "cell_type": "code",
   "execution_count": 5,
   "id": "ab4fbb1b-4688-490b-9408-8ce6c81f8ae0",
   "metadata": {
    "tags": []
   },
   "outputs": [
    {
     "data": {
      "text/plain": [
       "17"
      ]
     },
     "execution_count": 5,
     "metadata": {},
     "output_type": "execute_result"
    }
   ],
   "source": [
    "# This a simple arithmetic expression to mutiply then add integers\n",
    "(3*4)+5"
   ]
  },
  {
   "cell_type": "markdown",
   "id": "d3957631-0cf1-4020-9852-97e267e50886",
   "metadata": {},
   "source": [
    "Exercise 9 - Create a code cell to convert minutes to hours"
   ]
  },
  {
   "cell_type": "code",
   "execution_count": 12,
   "id": "cf7f53b8-dad1-4a67-9e45-a24f0846808f",
   "metadata": {
    "tags": []
   },
   "outputs": [
    {
     "data": {
      "text/plain": [
       "3.3333333333333335"
      ]
     },
     "execution_count": 12,
     "metadata": {},
     "output_type": "execute_result"
    }
   ],
   "source": [
    "#This will convert 200 minutes to hours by diving by 60\n",
    "200/60"
   ]
  },
  {
   "cell_type": "markdown",
   "id": "a0244ed9-b29e-4d0b-bb56-00ec029e8b79",
   "metadata": {},
   "source": [
    "Exercise 11 - Create a markdown cell to indicate the Author's name"
   ]
  },
  {
   "cell_type": "markdown",
   "id": "e308ffea-b23b-43e7-a39d-7c7f09c0b33b",
   "metadata": {},
   "source": [
    "## Author\n",
    "Christian "
   ]
  },
  {
   "cell_type": "code",
   "execution_count": null,
   "id": "d4de2bae-f53c-4e68-80be-1b6200cd250a",
   "metadata": {},
   "outputs": [],
   "source": []
  }
 ],
 "metadata": {
  "kernelspec": {
   "display_name": "Python",
   "language": "python",
   "name": "conda-env-python-py"
  },
  "language_info": {
   "codemirror_mode": {
    "name": "ipython",
    "version": 3
   },
   "file_extension": ".py",
   "mimetype": "text/x-python",
   "name": "python",
   "nbconvert_exporter": "python",
   "pygments_lexer": "ipython3",
   "version": "3.7.12"
  }
 },
 "nbformat": 4,
 "nbformat_minor": 5
}
